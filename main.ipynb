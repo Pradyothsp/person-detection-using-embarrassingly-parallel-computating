{
 "cells": [
  {
   "cell_type": "code",
   "execution_count": null,
   "metadata": {
    "collapsed": true
   },
   "outputs": [],
   "source": [
    "from uuid import uuid4\n",
    "\n",
    "import cv2\n",
    "from imageai.Detection import ObjectDetection"
   ]
  },
  {
   "cell_type": "code",
   "execution_count": null,
   "outputs": [],
   "source": [
    "detector = ObjectDetection()\n",
    "detector.setModelTypeAsYOLOv3()\n",
    "detector.setModelPath(\"model/yolo.h5\")\n",
    "detector.loadModel()"
   ],
   "metadata": {
    "collapsed": false
   }
  },
  {
   "cell_type": "code",
   "execution_count": null,
   "outputs": [],
   "source": [
    "img_array = cv2.imread(\"media/images/4.jpg\")"
   ],
   "metadata": {
    "collapsed": false
   }
  },
  {
   "cell_type": "code",
   "execution_count": null,
   "outputs": [],
   "source": [
    "custom = detector.CustomObjects(person=True)\n",
    "\n",
    "detections = detector.detectObjectsFromImage(\n",
    "    custom_objects=custom,\n",
    "    input_image=img_array,\n",
    "    # output_image_path=\"media/output_images/image_new.jpg\",\n",
    "    minimum_percentage_probability=30,\n",
    "    input_type=\"array\",\n",
    "    output_type=\"array\"\n",
    ")"
   ],
   "metadata": {
    "collapsed": false
   }
  },
  {
   "cell_type": "code",
   "execution_count": null,
   "outputs": [],
   "source": [
    "detections"
   ],
   "metadata": {
    "collapsed": false
   }
  },
  {
   "cell_type": "code",
   "execution_count": null,
   "outputs": [],
   "source": [
    "len(detections)"
   ],
   "metadata": {
    "collapsed": false
   }
  },
  {
   "cell_type": "code",
   "execution_count": null,
   "outputs": [],
   "source": [
    "cv2.imwrite(\"media/output_images/image_new_array.jpg\", detections[0])"
   ],
   "metadata": {
    "collapsed": false
   }
  },
  {
   "cell_type": "code",
   "execution_count": null,
   "outputs": [],
   "source": [
    "vid = cv2.VideoCapture(\"media/input_video/video_2.mp4\")\n",
    "\n",
    "while vid.isOpened():\n",
    "    # Capture frame-by-frame\n",
    "    ret, frame = vid.read()\n",
    "    print(ret)\n",
    "\n",
    "    if ret:\n",
    "        cv2.imwrite(f\"media/images_from_video/__{uuid4()}.jpg\", frame)\n",
    "\n",
    "    # while not ret:\n",
    "    #     print(\"Can't receive frame. Retrying ...\")\n",
    "    #     vid.release()\n",
    "    #     vid = cv2.VideoCapture(\"media/input_video/video_2.mp4\")\n",
    "    #     ret, frame = vid.read()\n",
    "\n",
    "    else:\n",
    "        continue\n",
    "\n",
    "    # When everything done, release the video capture object\n",
    "    vid.release()\n"
   ],
   "metadata": {
    "collapsed": false
   }
  },
  {
   "cell_type": "code",
   "execution_count": null,
   "outputs": [],
   "source": [
    "import time\n",
    "import multiprocessing as mp\n",
    "from utils import get_all_frames\n",
    "from main_p import detect_person\n",
    "import cv2\n",
    "\n",
    "cap = cv2.VideoCapture(\"media/input_video/video_2.mp4\")\n",
    "\n",
    "success, all_frames = get_all_frames(cap)\n",
    "\n",
    "print(f\"Length of all frames: {len(all_frames)}\")\n",
    "\n",
    "if success:\n",
    "    start_time = time.time()\n",
    "\n",
    "    pool = mp.Pool(mp.cpu_count())\n",
    "\n",
    "    result = pool.starmap(\n",
    "        detect_person,\n",
    "        [(img, count) for count, img in all_frames.items()]\n",
    "    )\n",
    "\n",
    "    pool.close()\n",
    "\n",
    "    print(f\"Length of result: {len(result)}\")\n",
    "\n",
    "    width, height = (\n",
    "        int(cap.get(cv2.CAP_PROP_FRAME_WIDTH)),\n",
    "        int(cap.get(cv2.CAP_PROP_FRAME_HEIGHT))\n",
    "    )\n",
    "    fps = int(cap.get(cv2.CAP_PROP_FPS))\n",
    "\n",
    "    number_of_frames = int(cap.get(cv2.CAP_PROP_FRAME_COUNT))\n",
    "\n",
    "    if len(result) == number_of_frames:\n",
    "        # Define the codec and create VideoWriter object\n",
    "        fourcc = cv2.VideoWriter_fourcc(*'avc1')  # TODO: change this, this is not working\n",
    "        out = cv2.VideoWriter()\n",
    "        output_file_name = \"media/output_video/parallel_detected_video_2.mp4\"\n",
    "        out.open(output_file_name, fourcc, fps, (width, height), True)\n",
    "\n",
    "        all_images = [result[count] for count in range(1, number_of_frames + 1)]\n",
    "\n",
    "        _ = [out.write(image) for image in all_images]\n",
    "\n",
    "        out.release()\n",
    "\n",
    "    # Release resources\n",
    "    cap.release()\n",
    "\n",
    "    print(f\"Time taken: {time.time() - start_time}\")"
   ],
   "metadata": {
    "collapsed": false
   }
  },
  {
   "cell_type": "code",
   "execution_count": null,
   "outputs": [],
   "source": [],
   "metadata": {
    "collapsed": false
   }
  }
 ],
 "metadata": {
  "kernelspec": {
   "display_name": "Python 3",
   "language": "python",
   "name": "python3"
  },
  "language_info": {
   "codemirror_mode": {
    "name": "ipython",
    "version": 2
   },
   "file_extension": ".py",
   "mimetype": "text/x-python",
   "name": "python",
   "nbconvert_exporter": "python",
   "pygments_lexer": "ipython2",
   "version": "2.7.6"
  }
 },
 "nbformat": 4,
 "nbformat_minor": 0
}
